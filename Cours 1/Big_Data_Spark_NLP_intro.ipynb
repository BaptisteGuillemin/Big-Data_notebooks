{
  "nbformat": 4,
  "nbformat_minor": 0,
  "metadata": {
    "colab": {
      "name": "Big Data - Spark NLP intro.ipynb",
      "provenance": [],
      "collapsed_sections": []
    },
    "kernelspec": {
      "name": "python3",
      "display_name": "Python 3"
    },
    "language_info": {
      "name": "python"
    }
  },
  "cells": [
    {
      "cell_type": "code",
      "execution_count": null,
      "metadata": {
        "colab": {
          "base_uri": "https://localhost:8080/"
        },
        "id": "Y94WL7gd0bYK",
        "outputId": "4f93bde5-400a-44f6-f9cb-594a7beb7021"
      },
      "outputs": [
        {
          "output_type": "stream",
          "name": "stdout",
          "text": [
            "\u001b[K     |████████████████████████████████| 281.4 MB 36 kB/s \n",
            "\u001b[K     |████████████████████████████████| 198 kB 51.9 MB/s \n",
            "\u001b[?25h  Building wheel for pyspark (setup.py) ... \u001b[?25l\u001b[?25hdone\n"
          ]
        }
      ],
      "source": [
        "!pip install -q findspark\n",
        "!pip install -q pyspark\n",
        "\n",
        "import findspark\n",
        "findspark.init()\n",
        "\n",
        "from pyspark.sql import SparkSession\n",
        "spark = SparkSession.builder.appName('nlp').getOrCreate()"
      ]
    },
    {
      "cell_type": "code",
      "source": [
        "sentenceDataFrame = spark.createDataFrame([\n",
        "  (0, \"Hi I am a student at aivancity\"),\n",
        "  (1, \"aivancity is an AI school\"),\n",
        "  (2, \"students develop key practical skills at the AI clinic\")], [\"id\", \"sentence\"])"
      ],
      "metadata": {
        "id": "WfTqpbbP1swK"
      },
      "execution_count": null,
      "outputs": []
    },
    {
      "cell_type": "code",
      "source": [
        "sentenceDataFrame.show(truncate=False)"
      ],
      "metadata": {
        "colab": {
          "base_uri": "https://localhost:8080/"
        },
        "id": "Be-kobpGPVXV",
        "outputId": "9cf4321d-ea68-448b-8e18-93f2c25774de"
      },
      "execution_count": null,
      "outputs": [
        {
          "output_type": "stream",
          "name": "stdout",
          "text": [
            "+---+------------------------------------------------------+\n",
            "|id |sentence                                              |\n",
            "+---+------------------------------------------------------+\n",
            "|0  |Hi I am a student at aivancity                        |\n",
            "|1  |aivancity is an AI school                             |\n",
            "|2  |students develop key practical skills at the AI clinic|\n",
            "+---+------------------------------------------------------+\n",
            "\n"
          ]
        }
      ]
    },
    {
      "cell_type": "code",
      "source": [
        "from pyspark.ml.feature import Tokenizer"
      ],
      "metadata": {
        "id": "77m2_tHAP3xy"
      },
      "execution_count": null,
      "outputs": []
    },
    {
      "cell_type": "code",
      "source": [
        "tokenizer = Tokenizer(inputCol=\"sentence\", outputCol=\"words\")"
      ],
      "metadata": {
        "id": "i5AiYdtlQKZ1"
      },
      "execution_count": null,
      "outputs": []
    },
    {
      "cell_type": "code",
      "source": [
        "tokenized = tokenizer.transform(sentenceDataFrame)\n",
        "tokenized.show(truncate=False)"
      ],
      "metadata": {
        "colab": {
          "base_uri": "https://localhost:8080/"
        },
        "id": "kI8ijYSgQTdT",
        "outputId": "fcf02248-bb12-45d8-be61-8c4dcb8d6219"
      },
      "execution_count": null,
      "outputs": [
        {
          "output_type": "stream",
          "name": "stdout",
          "text": [
            "+---+------------------------------------------------------+----------------------------------------------------------------+\n",
            "|id |sentence                                              |words                                                           |\n",
            "+---+------------------------------------------------------+----------------------------------------------------------------+\n",
            "|0  |Hi I am a student at aivancity                        |[hi, i, am, a, student, at, aivancity]                          |\n",
            "|1  |aivancity is an AI school                             |[aivancity, is, an, ai, school]                                 |\n",
            "|2  |students develop key practical skills at the AI clinic|[students, develop, key, practical, skills, at, the, ai, clinic]|\n",
            "+---+------------------------------------------------------+----------------------------------------------------------------+\n",
            "\n"
          ]
        }
      ]
    },
    {
      "cell_type": "code",
      "source": [
        "from pyspark.ml.feature import RegexTokenizer"
      ],
      "metadata": {
        "id": "g4eIJQQaQmiB"
      },
      "execution_count": null,
      "outputs": []
    },
    {
      "cell_type": "code",
      "source": [
        "regextokenizer = RegexTokenizer(inputCol=\"sentence\", outputCol=\"words\", pattern=\"\\\\W\")"
      ],
      "metadata": {
        "id": "lkt4af_YQ3uC"
      },
      "execution_count": null,
      "outputs": []
    },
    {
      "cell_type": "code",
      "source": [
        "from pyspark.sql.functions import col, udf\n",
        "from pyspark.sql.types import IntegerType"
      ],
      "metadata": {
        "id": "7Vg7lrqKRU_b"
      },
      "execution_count": null,
      "outputs": []
    },
    {
      "cell_type": "code",
      "source": [
        "countTokens = udf(lambda words: len(words), IntegerType())"
      ],
      "metadata": {
        "id": "HR2HvQ3MRf8Q"
      },
      "execution_count": null,
      "outputs": []
    },
    {
      "cell_type": "code",
      "source": [
        "tokenized.select(\"sentence\", \"words\").withColumn(\"tokens\", countTokens(col(\"words\"))).show(truncate=False)"
      ],
      "metadata": {
        "colab": {
          "base_uri": "https://localhost:8080/"
        },
        "id": "el4CjH_BRrTc",
        "outputId": "eebe81a3-ca24-4528-a907-6914017a95a0"
      },
      "execution_count": null,
      "outputs": [
        {
          "output_type": "stream",
          "name": "stdout",
          "text": [
            "+------------------------------------------------------+----------------------------------------------------------------+------+\n",
            "|sentence                                              |words                                                           |tokens|\n",
            "+------------------------------------------------------+----------------------------------------------------------------+------+\n",
            "|Hi I am a student at aivancity                        |[hi, i, am, a, student, at, aivancity]                          |7     |\n",
            "|aivancity is an AI school                             |[aivancity, is, an, ai, school]                                 |5     |\n",
            "|students develop key practical skills at the AI clinic|[students, develop, key, practical, skills, at, the, ai, clinic]|9     |\n",
            "+------------------------------------------------------+----------------------------------------------------------------+------+\n",
            "\n"
          ]
        }
      ]
    },
    {
      "cell_type": "code",
      "source": [
        "from pyspark.ml.feature import StopWordsRemover"
      ],
      "metadata": {
        "id": "102NG3TXSsB4"
      },
      "execution_count": null,
      "outputs": []
    },
    {
      "cell_type": "code",
      "source": [
        "remover = StopWordsRemover(inputCol=\"words\", outputCol=\"filtered\")"
      ],
      "metadata": {
        "id": "evgJFGyUS6fH"
      },
      "execution_count": null,
      "outputs": []
    },
    {
      "cell_type": "code",
      "source": [
        "tokenized_out_sw = remover.transform(tokenized)\n",
        "tokenized_out_sw.select(\"filtered\").show(truncate=False)"
      ],
      "metadata": {
        "colab": {
          "base_uri": "https://localhost:8080/"
        },
        "id": "4AgSMBNVTCAu",
        "outputId": "c16ababa-61ac-4d09-c070-df77523c9782"
      },
      "execution_count": null,
      "outputs": [
        {
          "output_type": "stream",
          "name": "stdout",
          "text": [
            "+-------------------------------------------------------+\n",
            "|filtered                                               |\n",
            "+-------------------------------------------------------+\n",
            "|[hi, student, aivancity]                               |\n",
            "|[aivancity, ai, school]                                |\n",
            "|[students, develop, key, practical, skills, ai, clinic]|\n",
            "+-------------------------------------------------------+\n",
            "\n"
          ]
        }
      ]
    },
    {
      "cell_type": "code",
      "source": [
        "from pyspark.ml.feature import NGram  #to use sequence de mots pas des mots spérarément\n",
        "ngram = NGram(n=2, inputCol=\"filtered\", outputCol=\"ngrams\")\n",
        "\n",
        "ngramDataFrame = ngram.transform(tokenized_out_sw)\n",
        "ngramDataFrame.select(\"filtered\",\"ngrams\").show(truncate=False)"
      ],
      "metadata": {
        "colab": {
          "base_uri": "https://localhost:8080/"
        },
        "id": "QxMBrtfZTZFY",
        "outputId": "3b681395-e43a-49f4-b6f5-50afdb5fa94c"
      },
      "execution_count": null,
      "outputs": [
        {
          "output_type": "stream",
          "name": "stdout",
          "text": [
            "+-------------------------------------------------------+--------------------------------------------------------------------------------------+\n",
            "|filtered                                               |ngrams                                                                                |\n",
            "+-------------------------------------------------------+--------------------------------------------------------------------------------------+\n",
            "|[hi, student, aivancity]                               |[hi student, student aivancity]                                                       |\n",
            "|[aivancity, ai, school]                                |[aivancity ai, ai school]                                                             |\n",
            "|[students, develop, key, practical, skills, ai, clinic]|[students develop, develop key, key practical, practical skills, skills ai, ai clinic]|\n",
            "+-------------------------------------------------------+--------------------------------------------------------------------------------------+\n",
            "\n"
          ]
        }
      ]
    },
    {
      "cell_type": "code",
      "source": [
        ""
      ],
      "metadata": {
        "id": "uEIZMRI8WUau"
      },
      "execution_count": null,
      "outputs": []
    }
  ]
}