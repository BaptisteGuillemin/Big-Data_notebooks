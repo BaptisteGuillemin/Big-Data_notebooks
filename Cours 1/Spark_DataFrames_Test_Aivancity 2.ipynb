{
  "cells": [
    {
      "cell_type": "markdown",
      "metadata": {
        "id": "3dIZJRYFWIMY"
      },
      "source": [
        "# Test PySpark & DataFrames"
      ]
    },
    {
      "cell_type": "markdown",
      "metadata": {
        "id": "Ikq3EnofWIMf"
      },
      "source": [
        "You will be asked some basic questions about some stock market data from the years 2012-2017. "
      ]
    },
    {
      "cell_type": "markdown",
      "metadata": {
        "id": "DmKskQAQWIMg"
      },
      "source": [
        "#### Use the stock.csv file to Answer and complete the  tasks below!"
      ]
    },
    {
      "cell_type": "markdown",
      "metadata": {
        "id": "TXkKb2A9WIMi"
      },
      "source": [
        "#### Start a Spark Session"
      ]
    },
    {
      "cell_type": "code",
      "source": [
        "pip install py4j"
      ],
      "metadata": {
        "colab": {
          "base_uri": "https://localhost:8080/"
        },
        "id": "xxxKCpPijF9Z",
        "outputId": "9b1dd0e4-b5b9-44fe-fcd0-bfb6765353b2"
      },
      "execution_count": null,
      "outputs": [
        {
          "output_type": "stream",
          "name": "stdout",
          "text": [
            "Collecting py4j\n",
            "  Downloading py4j-0.10.9.3-py2.py3-none-any.whl (198 kB)\n",
            "\u001b[?25l\r\u001b[K     |█▋                              | 10 kB 19.5 MB/s eta 0:00:01\r\u001b[K     |███▎                            | 20 kB 26.1 MB/s eta 0:00:01\r\u001b[K     |█████                           | 30 kB 13.7 MB/s eta 0:00:01\r\u001b[K     |██████▋                         | 40 kB 10.3 MB/s eta 0:00:01\r\u001b[K     |████████▎                       | 51 kB 7.1 MB/s eta 0:00:01\r\u001b[K     |█████████▉                      | 61 kB 7.1 MB/s eta 0:00:01\r\u001b[K     |███████████▌                    | 71 kB 7.4 MB/s eta 0:00:01\r\u001b[K     |█████████████▏                  | 81 kB 8.4 MB/s eta 0:00:01\r\u001b[K     |██████████████▉                 | 92 kB 7.8 MB/s eta 0:00:01\r\u001b[K     |████████████████▌               | 102 kB 6.8 MB/s eta 0:00:01\r\u001b[K     |██████████████████▏             | 112 kB 6.8 MB/s eta 0:00:01\r\u001b[K     |███████████████████▊            | 122 kB 6.8 MB/s eta 0:00:01\r\u001b[K     |█████████████████████▍          | 133 kB 6.8 MB/s eta 0:00:01\r\u001b[K     |███████████████████████         | 143 kB 6.8 MB/s eta 0:00:01\r\u001b[K     |████████████████████████▊       | 153 kB 6.8 MB/s eta 0:00:01\r\u001b[K     |██████████████████████████▍     | 163 kB 6.8 MB/s eta 0:00:01\r\u001b[K     |████████████████████████████    | 174 kB 6.8 MB/s eta 0:00:01\r\u001b[K     |█████████████████████████████▋  | 184 kB 6.8 MB/s eta 0:00:01\r\u001b[K     |███████████████████████████████▎| 194 kB 6.8 MB/s eta 0:00:01\r\u001b[K     |████████████████████████████████| 198 kB 6.8 MB/s \n",
            "\u001b[?25hInstalling collected packages: py4j\n",
            "Successfully installed py4j-0.10.9.3\n"
          ]
        }
      ]
    },
    {
      "cell_type": "code",
      "source": [
        "!pip install -q findspark\n",
        "!pip install -q pyspark"
      ],
      "metadata": {
        "colab": {
          "base_uri": "https://localhost:8080/"
        },
        "id": "uGc6L15GoyqW",
        "outputId": "48e1e73d-e1a0-4433-c42b-1896e7120777"
      },
      "execution_count": 3,
      "outputs": [
        {
          "output_type": "stream",
          "name": "stdout",
          "text": [
            "\u001b[K     |████████████████████████████████| 281.4 MB 47 kB/s \n",
            "\u001b[K     |████████████████████████████████| 198 kB 62.0 MB/s \n",
            "\u001b[?25h  Building wheel for pyspark (setup.py) ... \u001b[?25l\u001b[?25hdone\n"
          ]
        }
      ]
    },
    {
      "cell_type": "code",
      "source": [
        "from google.colab import drive\n",
        "drive.mount('/content/drive')"
      ],
      "metadata": {
        "colab": {
          "base_uri": "https://localhost:8080/"
        },
        "id": "IhxAWZ8bj0hH",
        "outputId": "34628c4c-302d-403c-9b65-4e6d2fa90b09"
      },
      "execution_count": 1,
      "outputs": [
        {
          "output_type": "stream",
          "name": "stdout",
          "text": [
            "Mounted at /content/drive\n"
          ]
        }
      ]
    },
    {
      "cell_type": "code",
      "execution_count": 2,
      "metadata": {
        "id": "xdZRIrVkWIMk"
      },
      "outputs": [],
      "source": [
        "# innstall java\n",
        "!apt-get install openjdk-8-jdk-headless -qq > /dev/null\n",
        "# install spark (change the version number if needed)\n",
        "!wget -q https://archive.apache.org/dist/spark/spark-3.0.0/spark-3.0.0-bin-hadoop3.2.tgz\n",
        "# unzip the spark file to the current folder\n",
        "!tar xf spark-3.0.0-bin-hadoop3.2.tgz\n",
        "# set your spark folder to your system path environment. \n",
        "import os\n",
        "os.environ[\"JAVA_HOME\"] = \"/usr/lib/jvm/java-8-openjdk-amd64\"\n",
        "os.environ[\"SPARK_HOME\"] = \"/content/spark-3.0.0-bin-hadoop3.2\"\n",
        "# install findspark using pip\n",
        "!pip install -q findspark"
      ]
    },
    {
      "cell_type": "code",
      "source": [
        "import findspark\n",
        "findspark.init()"
      ],
      "metadata": {
        "id": "SHbJWxqNWoL2"
      },
      "execution_count": 4,
      "outputs": []
    },
    {
      "cell_type": "code",
      "source": [
        "from pyspark.sql import SparkSession\n",
        "spark = SparkSession.builder.appName('Basics').getOrCreate()"
      ],
      "metadata": {
        "id": "LjRgPFECXA73"
      },
      "execution_count": 5,
      "outputs": []
    },
    {
      "cell_type": "markdown",
      "metadata": {
        "id": "tPacFI_BWIMl"
      },
      "source": [
        "#### Load the Stock CSV File, have Spark infer the data types."
      ]
    },
    {
      "cell_type": "code",
      "source": [
        "df = spark.read.csv('stock.csv',inferSchema=True,header=True)\n",
        "df.show()"
      ],
      "metadata": {
        "colab": {
          "base_uri": "https://localhost:8080/"
        },
        "id": "1LRUkGmpb30F",
        "outputId": "7f76aaf8-f26e-4672-f993-b907eb2f0a8d"
      },
      "execution_count": 7,
      "outputs": [
        {
          "output_type": "stream",
          "name": "stdout",
          "text": [
            "+----------+------------------+------------------+------------------+------------------+--------+------------------+\n",
            "|      Date|              Open|              High|               Low|             Close|  Volume|         Adj Close|\n",
            "+----------+------------------+------------------+------------------+------------------+--------+------------------+\n",
            "|2012-01-03|         59.970001|         61.060001|         59.869999|         60.330002|12668800|52.619234999999996|\n",
            "|2012-01-04|60.209998999999996|         60.349998|         59.470001|59.709998999999996| 9593300|         52.078475|\n",
            "|2012-01-05|         59.349998|         59.619999|         58.369999|         59.419998|12768200|         51.825539|\n",
            "|2012-01-06|         59.419998|         59.450001|         58.869999|              59.0| 8069400|          51.45922|\n",
            "|2012-01-09|         59.029999|         59.549999|         58.919998|             59.18| 6679300|51.616215000000004|\n",
            "|2012-01-10|             59.43|59.709998999999996|             58.98|59.040001000000004| 6907300|         51.494109|\n",
            "|2012-01-11|         59.060001|         59.529999|59.040001000000004|         59.400002| 6365600|         51.808098|\n",
            "|2012-01-12|59.790001000000004|              60.0|         59.400002|              59.5| 7236400|51.895315999999994|\n",
            "|2012-01-13|             59.18|59.610001000000004|59.009997999999996|59.540001000000004| 7729300|51.930203999999996|\n",
            "|2012-01-17|         59.869999|60.110001000000004|             59.52|         59.849998| 8500000|         52.200581|\n",
            "|2012-01-18|59.790001000000004|         60.029999|         59.650002|60.009997999999996| 5911400|         52.340131|\n",
            "|2012-01-19|             59.93|             60.73|             59.75|60.610001000000004| 9234600|         52.863447|\n",
            "|2012-01-20|             60.75|             61.25|         60.669998|61.009997999999996|10378800|53.212320999999996|\n",
            "|2012-01-23|         60.810001|             60.98|60.509997999999996|             60.91| 7134100|         53.125104|\n",
            "|2012-01-24|             60.75|              62.0|             60.75|61.389998999999996| 7362800| 53.54375400000001|\n",
            "|2012-01-25|             61.18|61.610001000000004|61.040001000000004|         61.470001| 5915800| 53.61353100000001|\n",
            "|2012-01-26|         61.799999|             61.84|             60.77|         60.970001| 7436200|         53.177436|\n",
            "|2012-01-27|60.860001000000004|         61.119999|60.540001000000004|60.709998999999996| 6287300|         52.950665|\n",
            "|2012-01-30|         60.470001|             61.32|         60.349998|         61.299999| 7636900|53.465256999999994|\n",
            "|2012-01-31|         61.529999|             61.57|         60.580002|61.360001000000004| 9761500|53.517590000000006|\n",
            "+----------+------------------+------------------+------------------+------------------+--------+------------------+\n",
            "only showing top 20 rows\n",
            "\n"
          ]
        }
      ]
    },
    {
      "cell_type": "markdown",
      "metadata": {
        "id": "GfbVLlDyWIMm"
      },
      "source": [
        "#### List the 5th and 6th column names?"
      ]
    },
    {
      "cell_type": "code",
      "execution_count": 10,
      "metadata": {
        "colab": {
          "base_uri": "https://localhost:8080/",
          "height": 35
        },
        "id": "qzVZZR6zWIMn",
        "outputId": "8abe4c2b-a0a7-4862-ced4-21e56a6d17df"
      },
      "outputs": [
        {
          "output_type": "execute_result",
          "data": {
            "application/vnd.google.colaboratory.intrinsic+json": {
              "type": "string"
            },
            "text/plain": [
              "'Close'"
            ]
          },
          "metadata": {},
          "execution_count": 10
        }
      ],
      "source": [
        "df.columns[4]\n"
      ]
    },
    {
      "cell_type": "code",
      "source": [
        "df.columns[5]"
      ],
      "metadata": {
        "colab": {
          "base_uri": "https://localhost:8080/",
          "height": 35
        },
        "id": "Vj3Fs4LqY9qY",
        "outputId": "e2107fdc-0f17-4d90-ee28-4187cef5792d"
      },
      "execution_count": null,
      "outputs": [
        {
          "output_type": "execute_result",
          "data": {
            "application/vnd.google.colaboratory.intrinsic+json": {
              "type": "string"
            },
            "text/plain": [
              "'Volume'"
            ]
          },
          "metadata": {},
          "execution_count": 49
        }
      ]
    },
    {
      "cell_type": "markdown",
      "metadata": {
        "id": "jdh7HM2NWIMp"
      },
      "source": [
        "#### Print the Schema and change the inferred Volume type from integer to double"
      ]
    },
    {
      "cell_type": "code",
      "execution_count": null,
      "metadata": {
        "colab": {
          "base_uri": "https://localhost:8080/"
        },
        "id": "gOqdb5RuWIMp",
        "outputId": "5d71b1ac-2a26-4474-fbf9-7c9e42ded167"
      },
      "outputs": [
        {
          "output_type": "stream",
          "name": "stdout",
          "text": [
            "root\n",
            " |-- Date: string (nullable = true)\n",
            " |-- Open: double (nullable = true)\n",
            " |-- High: double (nullable = true)\n",
            " |-- Low: double (nullable = true)\n",
            " |-- Close: double (nullable = true)\n",
            " |-- Volume: integer (nullable = true)\n",
            " |-- Adj Close: double (nullable = true)\n",
            "\n"
          ]
        }
      ],
      "source": [
        "df.printSchema()"
      ]
    },
    {
      "cell_type": "code",
      "source": [
        "df.schema"
      ],
      "metadata": {
        "colab": {
          "base_uri": "https://localhost:8080/"
        },
        "id": "SmbnO3r4a3RP",
        "outputId": "7e1f45c0-d3dc-490b-f077-d68b6081f980"
      },
      "execution_count": null,
      "outputs": [
        {
          "output_type": "execute_result",
          "data": {
            "text/plain": [
              "StructType(List(StructField(Date,StringType,true),StructField(Open,DoubleType,true),StructField(High,DoubleType,true),StructField(Low,DoubleType,true),StructField(Close,DoubleType,true),StructField(Volume,IntegerType,true),StructField(Adj Close,DoubleType,true)))"
            ]
          },
          "metadata": {},
          "execution_count": 51
        }
      ]
    },
    {
      "cell_type": "code",
      "source": [
        "from pyspark.sql.types import DoubleType\n",
        "\n",
        "df_new = df.withColumn(\"Volume\", df[\"Volume\"].cast(DoubleType()))\n",
        "df_new.printSchema()\n",
        "df_new.select(\"Volume\").show()"
      ],
      "metadata": {
        "colab": {
          "base_uri": "https://localhost:8080/"
        },
        "id": "mGkW9rLWa6rp",
        "outputId": "9b4e1ad6-086e-408a-95f4-4258e40e01e9"
      },
      "execution_count": 23,
      "outputs": [
        {
          "output_type": "stream",
          "name": "stdout",
          "text": [
            "root\n",
            " |-- Date: string (nullable = true)\n",
            " |-- Open: double (nullable = true)\n",
            " |-- High: double (nullable = true)\n",
            " |-- Low: double (nullable = true)\n",
            " |-- Close: double (nullable = true)\n",
            " |-- Volume: double (nullable = true)\n",
            " |-- Adj Close: double (nullable = true)\n",
            " |-- HV Ratio: double (nullable = true)\n",
            " |-- LV Ratio: double (nullable = true)\n",
            "\n",
            "+---------+\n",
            "|   Volume|\n",
            "+---------+\n",
            "|1.26688E7|\n",
            "|9593300.0|\n",
            "|1.27682E7|\n",
            "|8069400.0|\n",
            "|6679300.0|\n",
            "|6907300.0|\n",
            "|6365600.0|\n",
            "|7236400.0|\n",
            "|7729300.0|\n",
            "|8500000.0|\n",
            "|5911400.0|\n",
            "|9234600.0|\n",
            "|1.03788E7|\n",
            "|7134100.0|\n",
            "|7362800.0|\n",
            "|5915800.0|\n",
            "|7436200.0|\n",
            "|6287300.0|\n",
            "|7636900.0|\n",
            "|9761500.0|\n",
            "+---------+\n",
            "only showing top 20 rows\n",
            "\n"
          ]
        }
      ]
    },
    {
      "cell_type": "markdown",
      "metadata": {
        "id": "KaG35REPWIMq"
      },
      "source": [
        "#### Print out the date and the open price of the first 5 rows as follows.\n",
        "on 2012-01-03 00:00:00 , the open price was 59.97 $\n",
        "\n",
        "\n",
        "on 2012-01-04 00:00:00 , the open price was 60.21 $\n",
        "\n",
        "\n",
        "on 2012-01-05 00:00:00 , the open price was 59.35 $\n",
        "\n",
        "\n",
        "on 2012-01-06 00:00:00 , the open price was 59.42 $\n",
        "\n",
        "\n",
        "on 2012-01-09 00:00:00 , the open price was 59.03 $"
      ]
    },
    {
      "cell_type": "code",
      "source": [
        "print(\"on the \", df.first()['Date'], \", the open price was \", df.first()['Open'], \"$\")\n",
        "\n",
        " # df.collect row , columns\n"
      ],
      "metadata": {
        "id": "3UXPNN65hHFc",
        "colab": {
          "base_uri": "https://localhost:8080/"
        },
        "outputId": "9a79191d-4326-4ae9-ac3d-8213159ca73c"
      },
      "execution_count": 22,
      "outputs": [
        {
          "output_type": "stream",
          "name": "stdout",
          "text": [
            "on the  2012-01-03 , the open price was  59.970001 $\n"
          ]
        }
      ]
    },
    {
      "cell_type": "markdown",
      "metadata": {
        "id": "DjReOehnWIMr"
      },
      "source": [
        "#### Use describe() to generate a summary DataFrame."
      ]
    },
    {
      "cell_type": "code",
      "execution_count": 24,
      "metadata": {
        "colab": {
          "base_uri": "https://localhost:8080/"
        },
        "id": "m1QZkErOWIMs",
        "outputId": "ffbbc45b-8d8e-4140-cabd-c669d458ac34"
      },
      "outputs": [
        {
          "output_type": "execute_result",
          "data": {
            "text/plain": [
              "DataFrame[summary: string, Date: string, Open: string, High: string, Low: string, Close: string, Volume: string, Adj Close: string, HV Ratio: string, LV Ratio: string]"
            ]
          },
          "metadata": {},
          "execution_count": 24
        }
      ],
      "source": [
        "df.describe()"
      ]
    },
    {
      "cell_type": "code",
      "source": [
        "df_describe = df.describe().show()\n",
        "df_describe\n"
      ],
      "metadata": {
        "colab": {
          "base_uri": "https://localhost:8080/",
          "height": 394
        },
        "id": "s_ect4iNiwOp",
        "outputId": "0bfb2b52-b8d3-47ad-ac24-10bb33232e65"
      },
      "execution_count": 30,
      "outputs": [
        {
          "output_type": "stream",
          "name": "stdout",
          "text": [
            "+-------+----------+------------------+-----------------+-----------------+-----------------+-----------------+-----------------+--------------------+--------------------+\n",
            "|summary|      Date|              Open|             High|              Low|            Close|           Volume|        Adj Close|            HV Ratio|            LV Ratio|\n",
            "+-------+----------+------------------+-----------------+-----------------+-----------------+-----------------+-----------------+--------------------+--------------------+\n",
            "|  count|      1258|              1258|             1258|             1258|             1258|             1258|             1258|                1258|                1258|\n",
            "|   mean|      null| 72.35785375357709|72.83938807631165| 71.9186009594594|72.38844998012726|8222093.481717011|67.23883848728146|1.058087386431558E-5|1.046022660417144...|\n",
            "| stddev|      null|  6.76809024470826|6.768186808159218|6.744075756255496|6.756859163732991|  4519780.8431556|6.722609449996857| 4.34985596206404E-6|4.326679079755644E-6|\n",
            "|    min|2012-01-03|56.389998999999996|        57.060001|        56.299999|        56.419998|          2094900|        50.363689|8.399455240605156E-7|7.419210092696862E-7|\n",
            "|    max|2016-12-30|         90.800003|        90.970001|            89.25|        90.470001|         80898100|84.91421600000001|3.734784381116044E-5|3.705665998377011E-5|\n",
            "+-------+----------+------------------+-----------------+-----------------+-----------------+-----------------+-----------------+--------------------+--------------------+\n",
            "\n"
          ]
        },
        {
          "output_type": "error",
          "ename": "AttributeError",
          "evalue": "ignored",
          "traceback": [
            "\u001b[0;31m---------------------------------------------------------------------------\u001b[0m",
            "\u001b[0;31mAttributeError\u001b[0m                            Traceback (most recent call last)",
            "\u001b[0;32m<ipython-input-30-9558153eabc2>\u001b[0m in \u001b[0;36m<module>\u001b[0;34m()\u001b[0m\n\u001b[1;32m      1\u001b[0m \u001b[0mdf_describe\u001b[0m \u001b[0;34m=\u001b[0m \u001b[0mdf\u001b[0m\u001b[0;34m.\u001b[0m\u001b[0mdescribe\u001b[0m\u001b[0;34m(\u001b[0m\u001b[0;34m)\u001b[0m\u001b[0;34m.\u001b[0m\u001b[0mshow\u001b[0m\u001b[0;34m(\u001b[0m\u001b[0;34m)\u001b[0m\u001b[0;34m\u001b[0m\u001b[0;34m\u001b[0m\u001b[0m\n\u001b[1;32m      2\u001b[0m \u001b[0mdf_describe\u001b[0m\u001b[0;34m\u001b[0m\u001b[0;34m\u001b[0m\u001b[0m\n\u001b[0;32m----> 3\u001b[0;31m \u001b[0mdf_describe\u001b[0m\u001b[0;34m.\u001b[0m\u001b[0mprintSchema\u001b[0m\u001b[0;34m(\u001b[0m\u001b[0;34m)\u001b[0m\u001b[0;34m\u001b[0m\u001b[0;34m\u001b[0m\u001b[0m\n\u001b[0m",
            "\u001b[0;31mAttributeError\u001b[0m: 'NoneType' object has no attribute 'printSchema'"
          ]
        }
      ]
    },
    {
      "cell_type": "markdown",
      "metadata": {
        "id": "Bo2Ix3gYWIMs"
      },
      "source": [
        "#### There are too many decimal places for mean and stddev in the describe() dataframe. Format the numbers to just show up to two decimal places. Pay careful attention to the datatypes that .describe() returns. [Check this link for a hint](https://spark.apache.org/docs/latest/api/python/reference/api/pyspark.sql.Column.cast.html?highlight=cast)"
      ]
    },
    {
      "cell_type": "code",
      "execution_count": 38,
      "metadata": {
        "id": "dADchVXCWIMt"
      },
      "outputs": [],
      "source": [
        "from pyspark.sql.types import IntegerType\n"
      ]
    },
    {
      "cell_type": "markdown",
      "metadata": {
        "id": "hFmLVpAAWIMt"
      },
      "source": [
        "#### Create a new dataframe with 2 columns : \n",
        "##### HV Ratio that is the ratio of the High Price versus volume of stock traded for a day,  \n",
        "##### and LV Ratio that is the ratio of the Low Price versus volume of stock traded for a day."
      ]
    },
    {
      "cell_type": "code",
      "execution_count": 19,
      "metadata": {
        "id": "BV7WNe4pWIMu",
        "outputId": "0acb4594-c3e1-45ac-eb93-f3394f0f72bb",
        "colab": {
          "base_uri": "https://localhost:8080/"
        }
      },
      "outputs": [
        {
          "output_type": "stream",
          "name": "stdout",
          "text": [
            "+--------------------+--------------------+\n",
            "|            HV Ratio|            LV Ratio|\n",
            "+--------------------+--------------------+\n",
            "|4.819714653321546E-6|4.725782947082596...|\n",
            "|6.290848613094555E-6|6.199118238770809E-6|\n",
            "|4.669412994783916E-6|4.571513525790636E-6|\n",
            "|7.367338463826307E-6|7.295461744367611E-6|\n",
            "|8.915604778943901E-6|8.821283368017606E-6|\n",
            "|8.644477436914568E-6|8.538792292212586E-6|\n",
            "|9.351828421515645E-6|9.274852488375017E-6|\n",
            "| 8.29141562102703E-6| 8.20850174119728E-6|\n",
            "|7.712212102001476E-6|7.634585020635763E-6|\n",
            "|7.071764823529412E-6|7.002352941176471E-6|\n",
            "|1.015495466386981E-5|1.009067259870758...|\n",
            "|6.576354146362592...|6.470231520585624E-6|\n",
            "| 5.90145296180676E-6|5.845569622692411E-6|\n",
            "|8.547679455011844E-6|8.481798404844339E-6|\n",
            "|8.420709512685392E-6|8.250937143478025E-6|\n",
            "|1.041448341728929...|1.031813127556712...|\n",
            "|8.316075414862431E-6| 8.17218471800113E-6|\n",
            "|9.721183814992126E-6|9.628934677842636E-6|\n",
            "|8.029436027707578E-6|7.902420877581218E-6|\n",
            "|6.307432259386365E-6|6.206013624955181E-6|\n",
            "+--------------------+--------------------+\n",
            "only showing top 20 rows\n",
            "\n"
          ]
        }
      ],
      "source": [
        "from pyspark.sql.functions import col, lit\n",
        "df = df.withColumn('HV Ratio',col(\"High\")/col(\"Volume\"))\n",
        "df = df.withColumn('LV Ratio',col(\"Low\")/col(\"Volume\"))\n",
        "df.select('HV Ratio', 'LV Ratio').show()"
      ]
    },
    {
      "cell_type": "markdown",
      "metadata": {
        "id": "UeZcFnEoWIMu"
      },
      "source": [
        "#### What day had the Highest HV Ratio? and what day we had the lowest?"
      ]
    },
    {
      "cell_type": "code",
      "execution_count": 35,
      "metadata": {
        "id": "uYTSc3rZWIMu",
        "outputId": "21716709-0877-4da8-83cc-65a761531bc8",
        "colab": {
          "base_uri": "https://localhost:8080/"
        }
      },
      "outputs": [
        {
          "output_type": "stream",
          "name": "stdout",
          "text": [
            "+--------------------+\n",
            "|       max(HV Ratio)|\n",
            "+--------------------+\n",
            "|3.734784381116044E-5|\n",
            "+--------------------+\n",
            "\n"
          ]
        }
      ],
      "source": [
        "from pyspark.sql.functions import mean, min, max\n",
        "\n",
        "max = df.select([max(\"HV Ratio\")]).show()\n"
      ]
    },
    {
      "cell_type": "code",
      "source": [
        "min = df.select([min(\"HV Ratio\")]).show()"
      ],
      "metadata": {
        "colab": {
          "base_uri": "https://localhost:8080/"
        },
        "id": "yfVQv_IZ2L_C",
        "outputId": "fdeadf8d-01ef-45b5-e359-d824ef79c453"
      },
      "execution_count": 36,
      "outputs": [
        {
          "output_type": "stream",
          "name": "stdout",
          "text": [
            "+--------------------+\n",
            "|       min(HV Ratio)|\n",
            "+--------------------+\n",
            "|8.399455240605156E-7|\n",
            "+--------------------+\n",
            "\n"
          ]
        }
      ]
    },
    {
      "cell_type": "markdown",
      "metadata": {
        "id": "m27vipRyWIMv"
      },
      "source": [
        "#### What is the mean of the LV Ratio?"
      ]
    },
    {
      "cell_type": "code",
      "execution_count": 37,
      "metadata": {
        "id": "gZu6IdrsWIMv",
        "outputId": "c7a18b96-ba06-404b-d432-587373583e9a",
        "colab": {
          "base_uri": "https://localhost:8080/"
        }
      },
      "outputs": [
        {
          "output_type": "stream",
          "name": "stdout",
          "text": [
            "+--------------------+\n",
            "|       avg(LV Ratio)|\n",
            "+--------------------+\n",
            "|1.046022660417144...|\n",
            "+--------------------+\n",
            "\n"
          ]
        }
      ],
      "source": [
        "mean = df.select([mean(\"LV Ratio\")]).show()"
      ]
    },
    {
      "cell_type": "markdown",
      "metadata": {
        "id": "9kZTTc-NWIMv"
      },
      "source": [
        "#### How many days volume was greater than 9000000 and the Close was lower than 70$"
      ]
    },
    {
      "cell_type": "code",
      "execution_count": 51,
      "metadata": {
        "id": "cYD_khHOWIMv",
        "outputId": "3dc89699-df68-4563-f092-4385e302c1c9",
        "colab": {
          "base_uri": "https://localhost:8080/"
        }
      },
      "outputs": [
        {
          "output_type": "execute_result",
          "data": {
            "text/plain": [
              "208"
            ]
          },
          "metadata": {},
          "execution_count": 51
        }
      ],
      "source": [
        "df_b = df.filter(df['Volume'] > 9000000 ) \n",
        "df_b = df_b.filter(df_b['Close'] < 70 )\n",
        "df_b.count()"
      ]
    },
    {
      "cell_type": "markdown",
      "metadata": {
        "id": "jSX0wgAiWIMw"
      },
      "source": [
        "#### What percentage of the time was the difference between High and Low greater than 1 dollars ?"
      ]
    },
    {
      "cell_type": "code",
      "execution_count": null,
      "metadata": {
        "id": "ShSJWa_uWIMw",
        "outputId": "5bd3326f-3ef3-41c4-e7f1-a67846f38511"
      },
      "outputs": [
        {
          "data": {
            "text/plain": [
              "30.206677265500797"
            ]
          },
          "execution_count": 109,
          "metadata": {},
          "output_type": "execute_result"
        }
      ],
      "source": [
        ""
      ]
    },
    {
      "cell_type": "markdown",
      "metadata": {
        "id": "LbzU8kZwWIMw"
      },
      "source": [
        "#### What is the Pearson correlation between Close and Volume?\n",
        "#### [Hint](https://spark.apache.org/docs/latest/api/python/reference/pyspark.pandas/api/pyspark.pandas.DataFrame.corr.html?highlight=corr)"
      ]
    },
    {
      "cell_type": "code",
      "execution_count": null,
      "metadata": {
        "id": "O7blgnQZWIMx",
        "outputId": "4d43a7bd-a6a8-42af-9f0f-592e230cbaad"
      },
      "outputs": [
        {
          "name": "stdout",
          "output_type": "stream",
          "text": [
            "+--------------------+\n",
            "| corr(Close, Volume)|\n",
            "+--------------------+\n",
            "|-0.36864129499157394|\n",
            "+--------------------+\n",
            "\n"
          ]
        }
      ],
      "source": [
        ""
      ]
    },
    {
      "cell_type": "markdown",
      "metadata": {
        "id": "8lg8elvcWIMx"
      },
      "source": [
        "#### What is the max and min HV Ratio per year?"
      ]
    },
    {
      "cell_type": "code",
      "execution_count": null,
      "metadata": {
        "id": "EjfzmK5YWIMx",
        "outputId": "35aa5715-e75f-4d4a-d755-a564c97348d7"
      },
      "outputs": [
        {
          "name": "stdout",
          "output_type": "stream",
          "text": [
            "+----+--------------------+\n",
            "|Year|       max(HV Ratio)|\n",
            "+----+--------------------+\n",
            "|2015|2.460931126147897...|\n",
            "|2013|3.734784381116044E-5|\n",
            "|2014|3.494261176659442...|\n",
            "|2012|2.368837716882401...|\n",
            "|2016|1.712227308529861...|\n",
            "+----+--------------------+\n",
            "\n",
            "+----+--------------------+\n",
            "|Year|       min(HV Ratio)|\n",
            "+----+--------------------+\n",
            "|2015|8.399455240605156E-7|\n",
            "|2013|2.725464010247744...|\n",
            "|2014|3.641002174256106E-6|\n",
            "|2012|1.584958731612085...|\n",
            "|2016|1.976525784922755E-6|\n",
            "+----+--------------------+\n",
            "\n"
          ]
        }
      ],
      "source": [
        ""
      ]
    },
    {
      "cell_type": "markdown",
      "metadata": {
        "id": "2dp768_HWIMx"
      },
      "source": [
        "#### What is the highest Close for each Calendar Month?\n",
        "#### In other words, across all the years, what is the highest Close price for Jan,Feb, Mar, etc... Your result will have a value for each of these months. "
      ]
    },
    {
      "cell_type": "code",
      "execution_count": null,
      "metadata": {
        "id": "LyMgV9UcWIMy",
        "outputId": "4f327cc4-2a15-4381-bc7c-9fd807ac2fec"
      },
      "outputs": [
        {
          "name": "stdout",
          "output_type": "stream",
          "text": [
            "+-----+-----------------+\n",
            "|Month|       max(Close)|\n",
            "+-----+-----------------+\n",
            "|    1|        90.470001|\n",
            "|    2|87.33000200000001|\n",
            "|    3|        83.959999|\n",
            "|    4|        81.029999|\n",
            "|    5|79.91999799999999|\n",
            "|    6|            77.32|\n",
            "|    7|        78.550003|\n",
            "|    8|        78.769997|\n",
            "|    9|        77.510002|\n",
            "|   10|        78.290001|\n",
            "|   11|        87.540001|\n",
            "|   12|        86.910004|\n",
            "+-----+-----------------+\n",
            "\n"
          ]
        }
      ],
      "source": [
        ""
      ]
    }
  ],
  "metadata": {
    "anaconda-cloud": {},
    "kernelspec": {
      "display_name": "Python 3",
      "language": "python",
      "name": "python3"
    },
    "language_info": {
      "codemirror_mode": {
        "name": "ipython",
        "version": 3
      },
      "file_extension": ".py",
      "mimetype": "text/x-python",
      "name": "python",
      "nbconvert_exporter": "python",
      "pygments_lexer": "ipython3",
      "version": "3.8.3"
    },
    "colab": {
      "name": "Spark_DataFrames_Test_Aivancity.ipynb",
      "provenance": [],
      "collapsed_sections": []
    }
  },
  "nbformat": 4,
  "nbformat_minor": 0
}