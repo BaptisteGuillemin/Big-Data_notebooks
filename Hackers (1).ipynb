{
  "nbformat": 4,
  "nbformat_minor": 0,
  "metadata": {
    "colab": {
      "name": "Hackers",
      "provenance": [],
      "collapsed_sections": []
    },
    "kernelspec": {
      "name": "python3",
      "display_name": "Python 3"
    },
    "language_info": {
      "name": "python"
    }
  },
  "cells": [
    {
      "cell_type": "code",
      "execution_count": null,
      "metadata": {
        "id": "zBGR8Bv8PMtp"
      },
      "outputs": [],
      "source": [
        "# innstall java\n",
        "!apt-get install openjdk-8-jdk-headless -qq > /dev/null"
      ]
    },
    {
      "cell_type": "code",
      "source": [
        "# install spark (change the version number if needed)\n",
        "!wget -q https://archive.apache.org/dist/spark/spark-3.0.0/spark-3.0.0-bin-hadoop3.2.tgz"
      ],
      "metadata": {
        "id": "4EikmM9nPPdZ"
      },
      "execution_count": null,
      "outputs": []
    },
    {
      "cell_type": "code",
      "source": [
        "# unzip the spark file to the current folder\n",
        "!tar xf spark-3.0.0-bin-hadoop3.2.tgz"
      ],
      "metadata": {
        "id": "5ApuuTo9RAl4"
      },
      "execution_count": null,
      "outputs": []
    },
    {
      "cell_type": "code",
      "source": [
        "# set your spark folder to your system path environment. \n",
        "import os\n",
        "os.environ[\"JAVA_HOME\"] = \"/usr/lib/jvm/java-8-openjdk-amd64\"\n",
        "os.environ[\"SPARK_HOME\"] = \"/content/spark-3.0.0-bin-hadoop3.2\""
      ],
      "metadata": {
        "id": "wL7FKWh-RAjg"
      },
      "execution_count": null,
      "outputs": []
    },
    {
      "cell_type": "code",
      "source": [
        "# install findspark using pip\n",
        "!pip install -q findspark"
      ],
      "metadata": {
        "id": "lJIwWZ6wRAgs"
      },
      "execution_count": null,
      "outputs": []
    },
    {
      "cell_type": "code",
      "source": [
        "import findspark"
      ],
      "metadata": {
        "id": "A_GvJiBMPPbC"
      },
      "execution_count": null,
      "outputs": []
    },
    {
      "cell_type": "code",
      "source": [
        "findspark.init()\n",
        "from pyspark.sql import SparkSession"
      ],
      "metadata": {
        "id": "hkiWD9sxPPYw"
      },
      "execution_count": null,
      "outputs": []
    },
    {
      "cell_type": "code",
      "source": [
        "from pyspark.sql import SparkSession\n",
        "spark = SparkSession.builder.appName('hack_find').getOrCreate()"
      ],
      "metadata": {
        "id": "o8edjhlGhDDd"
      },
      "execution_count": null,
      "outputs": []
    },
    {
      "cell_type": "code",
      "source": [
        "from pyspark.ml.clustering import KMeans\n",
        "\n",
        "# Loads data.\n",
        "dataset = spark.read.csv(\"hack_data.csv\",header=True,inferSchema=True)"
      ],
      "metadata": {
        "id": "wdVUQ9PyhFaR"
      },
      "execution_count": null,
      "outputs": []
    },
    {
      "cell_type": "code",
      "source": [
        "dataset.describe().show()"
      ],
      "metadata": {
        "colab": {
          "base_uri": "https://localhost:8080/"
        },
        "id": "BN-T32tAhJrv",
        "outputId": "0ae68659-b226-4929-ffa8-5e2a4bb03471"
      },
      "execution_count": null,
      "outputs": [
        {
          "output_type": "stream",
          "name": "stdout",
          "text": [
            "+-------+-----------------------+------------------+------------------+-----------------+------------------+-----------+------------------+\n",
            "|summary|Session_Connection_Time| Bytes Transferred|   Kali_Trace_Used|Servers_Corrupted|   Pages_Corrupted|   Location|  WPM_Typing_Speed|\n",
            "+-------+-----------------------+------------------+------------------+-----------------+------------------+-----------+------------------+\n",
            "|  count|                    334|               334|               334|              334|               334|        334|               334|\n",
            "|   mean|     30.008982035928145| 607.2452694610777|0.5119760479041916|5.258502994011977|10.838323353293413|       null|57.342395209580864|\n",
            "| stddev|     14.088200614636158|286.33593163576757|0.5006065264451406| 2.30190693339697|  3.06352633036022|       null| 13.41106336843464|\n",
            "|    min|                    1.0|              10.0|                 0|              1.0|               6.0|Afghanistan|              40.0|\n",
            "|    max|                   60.0|            1330.5|                 1|             10.0|              15.0|   Zimbabwe|              75.0|\n",
            "+-------+-----------------------+------------------+------------------+-----------------+------------------+-----------+------------------+\n",
            "\n"
          ]
        }
      ]
    },
    {
      "cell_type": "code",
      "source": [
        "from pyspark.ml.linalg import Vectors\n",
        "from pyspark.ml.feature import VectorAssembler"
      ],
      "metadata": {
        "id": "UIHYFLH7hNeW"
      },
      "execution_count": null,
      "outputs": []
    },
    {
      "cell_type": "code",
      "source": [
        "feat_cols = ['Session_Connection_Time', 'Bytes Transferred', 'Kali_Trace_Used',\n",
        "             'Servers_Corrupted', 'Pages_Corrupted','WPM_Typing_Speed']"
      ],
      "metadata": {
        "id": "EDiiUVfrhrY1"
      },
      "execution_count": null,
      "outputs": []
    },
    {
      "cell_type": "code",
      "source": [
        "vec_assembler = VectorAssembler(inputCols = feat_cols, outputCol='features')"
      ],
      "metadata": {
        "id": "EYPYqVrzhx25"
      },
      "execution_count": null,
      "outputs": []
    },
    {
      "cell_type": "code",
      "source": [
        "final_data = vec_assembler.transform(dataset)"
      ],
      "metadata": {
        "id": "74Q-o23jh9ji"
      },
      "execution_count": null,
      "outputs": []
    },
    {
      "cell_type": "code",
      "source": [
        "from pyspark.ml.feature import StandardScaler"
      ],
      "metadata": {
        "id": "t94_QV-Rh_nM"
      },
      "execution_count": null,
      "outputs": []
    },
    {
      "cell_type": "code",
      "source": [
        "scaler = StandardScaler(inputCol=\"features\", outputCol=\"scaledFeatures\", withStd=True, withMean=False)"
      ],
      "metadata": {
        "id": "JYsipTgiirO_"
      },
      "execution_count": null,
      "outputs": []
    },
    {
      "cell_type": "code",
      "source": [
        "scalerModel = scaler.fit(final_data)"
      ],
      "metadata": {
        "id": "eR5I7-djit8x"
      },
      "execution_count": null,
      "outputs": []
    },
    {
      "cell_type": "code",
      "source": [
        "cluster_final_data = scalerModel.transform(final_data)"
      ],
      "metadata": {
        "id": "4DFEcnbgiwzc"
      },
      "execution_count": null,
      "outputs": []
    },
    {
      "cell_type": "code",
      "source": [
        "kmeans3 = KMeans(featuresCol='scaledFeatures',k=3)\n",
        "kmeans2 = KMeans(featuresCol='scaledFeatures',k=2)"
      ],
      "metadata": {
        "id": "260alfhpi060"
      },
      "execution_count": null,
      "outputs": []
    },
    {
      "cell_type": "code",
      "source": [
        "model_k3 = kmeans3.fit(cluster_final_data)\n",
        "model_k2 = kmeans2.fit(cluster_final_data)"
      ],
      "metadata": {
        "id": "SRBUtZZzi3I6"
      },
      "execution_count": null,
      "outputs": []
    },
    {
      "cell_type": "code",
      "source": [
        "wssse_k3 = model_k3.clusterCenters()\n",
        "wssse_k2 = model_k2.clusterCenters()"
      ],
      "metadata": {
        "id": "yPEKxrpni52V"
      },
      "execution_count": null,
      "outputs": []
    },
    {
      "cell_type": "code",
      "source": [
        "print(\"With K=3\")\n",
        "print(\"Within Set Sum of Squared Errors = \" + str(wssse_k3))\n",
        "print('--'*30)\n",
        "print(\"With K=2\")\n",
        "print(\"Within Set Sum of Squared Errors = \" + str(wssse_k2))"
      ],
      "metadata": {
        "colab": {
          "base_uri": "https://localhost:8080/"
        },
        "id": "b7UlulO3i8za",
        "outputId": "ec8ebbc0-7f37-43dc-f9c1-b13847227099"
      },
      "execution_count": null,
      "outputs": [
        {
          "output_type": "stream",
          "name": "stdout",
          "text": [
            "With K=3\n",
            "Within Set Sum of Squared Errors = [array([2.93719177, 2.88492202, 0.        , 3.19938371, 4.52857793,\n",
            "       3.30407351]), array([1.26023837, 1.31829808, 0.99280765, 1.36491885, 2.5625043 ,\n",
            "       5.26676612]), array([3.05623261, 2.95754486, 1.99757683, 3.2079628 , 4.49941976,\n",
            "       3.26738378])]\n",
            "------------------------------------------------------------\n",
            "With K=2\n",
            "Within Set Sum of Squared Errors = [array([2.99991988, 2.92319035, 1.05261534, 3.20390443, 4.51321315,\n",
            "       3.28474   ]), array([1.26023837, 1.31829808, 0.99280765, 1.36491885, 2.5625043 ,\n",
            "       5.26676612])]\n"
          ]
        }
      ]
    },
    {
      "cell_type": "code",
      "source": [
        "for k in range(2,9):\n",
        "    kmeans = KMeans(featuresCol='scaledFeatures',k=k)\n",
        "    model = kmeans.fit(cluster_final_data)\n",
        "    wssse = model.clusterCenters()\n",
        "    print(\"With K={}\".format(k))\n",
        "    print(\"Within Set Sum of Squared Errors = \" + str(wssse))\n",
        "    print('--'*30)"
      ],
      "metadata": {
        "colab": {
          "base_uri": "https://localhost:8080/"
        },
        "id": "980y-WBRkLgq",
        "outputId": "73653ab0-5536-499c-a8cf-9051d2e2251d"
      },
      "execution_count": null,
      "outputs": [
        {
          "output_type": "stream",
          "name": "stdout",
          "text": [
            "With K=2\n",
            "Within Set Sum of Squared Errors = [array([2.99991988, 2.92319035, 1.05261534, 3.20390443, 4.51321315,\n",
            "       3.28474   ]), array([1.26023837, 1.31829808, 0.99280765, 1.36491885, 2.5625043 ,\n",
            "       5.26676612])]\n",
            "------------------------------------------------------------\n",
            "With K=3\n",
            "Within Set Sum of Squared Errors = [array([2.93719177, 2.88492202, 0.        , 3.19938371, 4.52857793,\n",
            "       3.30407351]), array([1.26023837, 1.31829808, 0.99280765, 1.36491885, 2.5625043 ,\n",
            "       5.26676612]), array([3.05623261, 2.95754486, 1.99757683, 3.2079628 , 4.49941976,\n",
            "       3.26738378])]\n",
            "------------------------------------------------------------\n",
            "With K=4\n",
            "Within Set Sum of Squared Errors = [array([3.05623261, 2.95754486, 1.99757683, 3.2079628 , 4.49941976,\n",
            "       3.26738378]), array([1.21780112, 1.37901802, 1.99757683, 1.37198977, 2.55237797,\n",
            "       5.29152222]), array([2.93719177, 2.88492202, 0.        , 3.19938371, 4.52857793,\n",
            "       3.30407351]), array([1.30217042, 1.25830099, 0.        , 1.35793211, 2.57251009,\n",
            "       5.24230473])]\n",
            "------------------------------------------------------------\n",
            "With K=5\n",
            "Within Set Sum of Squared Errors = [array([3.05623261, 2.95754486, 1.99757683, 3.2079628 , 4.49941976,\n",
            "       3.26738378]), array([1.10021148, 1.77565725, 0.        , 1.28600471, 2.56841959,\n",
            "       5.2331303 ]), array([1.21780112, 1.37901802, 1.99757683, 1.37198977, 2.55237797,\n",
            "       5.29152222]), array([2.93719177, 2.88492202, 0.        , 3.19938371, 4.52857793,\n",
            "       3.30407351]), array([1.46900607, 0.83091973, 0.        , 1.41735039, 2.57588919,\n",
            "       5.24988361])]\n",
            "------------------------------------------------------------\n",
            "With K=6\n",
            "Within Set Sum of Squared Errors = [array([2.98876941, 2.56343524, 1.99757683, 3.23857299, 4.50739088,\n",
            "       3.26013782]), array([1.30217042, 1.25830099, 0.        , 1.35793211, 2.57251009,\n",
            "       5.24230473]), array([2.93719177, 2.88492202, 0.        , 3.19938371, 4.52857793,\n",
            "       3.30407351]), array([3.13356849, 3.40932907, 1.99757683, 3.17287308, 4.49028214,\n",
            "       3.27569012]), array([1.06098492, 0.92794575, 1.99757683, 1.15487773, 2.57700963,\n",
            "       5.28685657]), array([1.35022369, 1.75992349, 1.99757683, 1.55532883, 2.5315779 ,\n",
            "       5.2954621 ])]\n",
            "------------------------------------------------------------\n",
            "With K=7\n",
            "Within Set Sum of Squared Errors = [array([3.24080726, 2.46628895, 1.99757683, 3.18084102, 4.46730754,\n",
            "       3.24246154]), array([0.88309194, 1.33268085, 0.        , 1.49096333, 2.56336663,\n",
            "       5.23145778]), array([2.93719177, 2.88492202, 0.        , 3.19938371, 4.52857793,\n",
            "       3.30407351]), array([2.93434369, 3.28195915, 1.99757683, 3.22587341, 4.52062594,\n",
            "       3.28384186]), array([1.21780112, 1.37901802, 1.99757683, 1.37198977, 2.55237797,\n",
            "       5.29152222]), array([1.57524075, 0.63530676, 0.        , 1.48522345, 2.62392442,\n",
            "       5.23996193]), array([1.60003873, 1.82783993, 0.        , 1.03157226, 2.52976445,\n",
            "       5.26020928])]\n",
            "------------------------------------------------------------\n",
            "With K=8\n",
            "Within Set Sum of Squared Errors = [array([3.05623261, 2.95754486, 1.99757683, 3.2079628 , 4.49941976,\n",
            "       3.26738378]), array([1.10021148, 1.77565725, 0.        , 1.28600471, 2.56841959,\n",
            "       5.2331303 ]), array([2.87001402, 2.2750201 , 0.        , 3.22457288, 4.49373212,\n",
            "       3.29526442]), array([1.3270433 , 0.72725311, 1.99757683, 1.1716184 , 2.56879307,\n",
            "       5.29627619]), array([1.52192441, 1.77766619, 1.99757683, 1.57235365, 2.52496414,\n",
            "       5.29705331]), array([0.72346412, 1.43427014, 1.99757683, 1.28722707, 2.57370577,\n",
            "       5.2800838 ]), array([1.46900607, 0.83091973, 0.        , 1.41735039, 2.57588919,\n",
            "       5.24988361]), array([2.978321  , 3.25833136, 0.        , 3.18396177, 4.5499121 ,\n",
            "       3.30946683])]\n",
            "------------------------------------------------------------\n"
          ]
        }
      ]
    },
    {
      "cell_type": "code",
      "source": [
        "model_k3.transform(cluster_final_data).groupBy('prediction').count().show()"
      ],
      "metadata": {
        "colab": {
          "base_uri": "https://localhost:8080/"
        },
        "id": "KBtm-HJHkZL0",
        "outputId": "19ab8d30-367d-44d8-de7a-21af20162bb7"
      },
      "execution_count": null,
      "outputs": [
        {
          "output_type": "stream",
          "name": "stdout",
          "text": [
            "+----------+-----+\n",
            "|prediction|count|\n",
            "+----------+-----+\n",
            "|         1|  167|\n",
            "|         2|   88|\n",
            "|         0|   79|\n",
            "+----------+-----+\n",
            "\n"
          ]
        }
      ]
    },
    {
      "cell_type": "code",
      "source": [
        "model_k2.transform(cluster_final_data).groupBy('prediction').count().show()"
      ],
      "metadata": {
        "colab": {
          "base_uri": "https://localhost:8080/"
        },
        "id": "ISEDLLBrkpss",
        "outputId": "9dc499dc-bb96-4908-830c-98aa144d6ad9"
      },
      "execution_count": null,
      "outputs": [
        {
          "output_type": "stream",
          "name": "stdout",
          "text": [
            "+----------+-----+\n",
            "|prediction|count|\n",
            "+----------+-----+\n",
            "|         1|  167|\n",
            "|         0|  167|\n",
            "+----------+-----+\n",
            "\n"
          ]
        }
      ]
    },
    {
      "cell_type": "markdown",
      "source": [
        "We can say that there are 3 hackers"
      ],
      "metadata": {
        "id": "0u8tuOxK4weS"
      }
    }
  ]
}