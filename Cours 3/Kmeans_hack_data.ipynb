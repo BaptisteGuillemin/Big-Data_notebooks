{
  "nbformat": 4,
  "nbformat_minor": 0,
  "metadata": {
    "colab": {
      "name": "Kmeans_hack_data.ipynb",
      "provenance": [],
      "collapsed_sections": []
    },
    "kernelspec": {
      "name": "python3",
      "display_name": "Python 3"
    },
    "language_info": {
      "name": "python"
    }
  },
  "cells": [
    {
      "cell_type": "code",
      "execution_count": 1,
      "metadata": {
        "id": "RN1BPO_ISqI5",
        "colab": {
          "base_uri": "https://localhost:8080/"
        },
        "outputId": "58863bca-38b4-4e15-ca49-93643523a9c0"
      },
      "outputs": [
        {
          "output_type": "stream",
          "name": "stdout",
          "text": [
            "\u001b[K     |████████████████████████████████| 281.4 MB 35 kB/s \n",
            "\u001b[K     |████████████████████████████████| 198 kB 54.2 MB/s \n",
            "\u001b[?25h  Building wheel for pyspark (setup.py) ... \u001b[?25l\u001b[?25hdone\n"
          ]
        }
      ],
      "source": [
        "!pip install -q findspark\n",
        "!pip install -q pyspark\n",
        "\n",
        "import findspark\n",
        "findspark.init()\n",
        "\n",
        "from pyspark.sql import SparkSession\n",
        "spark = SparkSession.builder.appName('cluster').getOrCreate()"
      ]
    },
    {
      "cell_type": "code",
      "source": [
        "df = spark.read.csv('hack_data.csv',header=True, inferSchema=True)\n",
        "df.show()"
      ],
      "metadata": {
        "colab": {
          "base_uri": "https://localhost:8080/"
        },
        "id": "ZJG9KPhbS0l9",
        "outputId": "65e6dfcb-ef09-4f73-c401-0b9d945e52ad"
      },
      "execution_count": 2,
      "outputs": [
        {
          "output_type": "stream",
          "name": "stdout",
          "text": [
            "+-----------------------+-----------------+---------------+-----------------+---------------+--------------------+----------------+\n",
            "|Session_Connection_Time|Bytes Transferred|Kali_Trace_Used|Servers_Corrupted|Pages_Corrupted|            Location|WPM_Typing_Speed|\n",
            "+-----------------------+-----------------+---------------+-----------------+---------------+--------------------+----------------+\n",
            "|                    8.0|           391.09|              1|             2.96|            7.0|            Slovenia|           72.37|\n",
            "|                   20.0|           720.99|              0|             3.04|            9.0|British Virgin Is...|           69.08|\n",
            "|                   31.0|           356.32|              1|             3.71|            8.0|             Tokelau|           70.58|\n",
            "|                    2.0|           228.08|              1|             2.48|            8.0|             Bolivia|            70.8|\n",
            "|                   20.0|            408.5|              0|             3.57|            8.0|                Iraq|           71.28|\n",
            "|                    1.0|           390.69|              1|             2.79|            9.0|    Marshall Islands|           71.57|\n",
            "|                   18.0|           342.97|              1|              5.1|            7.0|             Georgia|           72.32|\n",
            "|                   22.0|           101.61|              1|             3.03|            7.0|         Timor-Leste|           72.03|\n",
            "|                   15.0|           275.53|              1|             3.53|            8.0|Palestinian Terri...|           70.17|\n",
            "|                   12.0|           424.83|              1|             2.53|            8.0|          Bangladesh|           69.99|\n",
            "|                   15.0|           249.09|              1|             3.39|            9.0|Northern Mariana ...|           70.77|\n",
            "|                   32.0|           242.48|              0|             4.24|            8.0|            Zimbabwe|           67.93|\n",
            "|                   23.0|           514.54|              0|             3.18|            8.0|         Isle of Man|           68.56|\n",
            "|                    9.0|           284.77|              0|             3.12|            9.0|Sao Tome and Prin...|           70.82|\n",
            "|                   27.0|           779.25|              1|             2.37|            8.0|              Greece|           72.73|\n",
            "|                   12.0|           307.31|              1|             3.22|            7.0|     Solomon Islands|           67.95|\n",
            "|                   21.0|           355.94|              1|              2.0|            7.0|       Guinea-Bissau|            72.0|\n",
            "|                   10.0|           372.65|              0|             3.33|            7.0|        Burkina Faso|           69.19|\n",
            "|                   20.0|           347.23|              1|             2.33|            7.0|            Mongolia|           70.41|\n",
            "|                   22.0|           456.57|              0|             1.52|            8.0|             Nigeria|           69.35|\n",
            "+-----------------------+-----------------+---------------+-----------------+---------------+--------------------+----------------+\n",
            "only showing top 20 rows\n",
            "\n"
          ]
        }
      ]
    },
    {
      "cell_type": "code",
      "source": [
        "#droping location column, because it's non relevant and string problem\n",
        "df = df.drop('Location')\n",
        "df.show()"
      ],
      "metadata": {
        "colab": {
          "base_uri": "https://localhost:8080/"
        },
        "id": "qoWv9qF5T-Cc",
        "outputId": "9f840b14-ff88-4540-ca0f-c158a621f64c"
      },
      "execution_count": 3,
      "outputs": [
        {
          "output_type": "stream",
          "name": "stdout",
          "text": [
            "+-----------------------+-----------------+---------------+-----------------+---------------+----------------+\n",
            "|Session_Connection_Time|Bytes Transferred|Kali_Trace_Used|Servers_Corrupted|Pages_Corrupted|WPM_Typing_Speed|\n",
            "+-----------------------+-----------------+---------------+-----------------+---------------+----------------+\n",
            "|                    8.0|           391.09|              1|             2.96|            7.0|           72.37|\n",
            "|                   20.0|           720.99|              0|             3.04|            9.0|           69.08|\n",
            "|                   31.0|           356.32|              1|             3.71|            8.0|           70.58|\n",
            "|                    2.0|           228.08|              1|             2.48|            8.0|            70.8|\n",
            "|                   20.0|            408.5|              0|             3.57|            8.0|           71.28|\n",
            "|                    1.0|           390.69|              1|             2.79|            9.0|           71.57|\n",
            "|                   18.0|           342.97|              1|              5.1|            7.0|           72.32|\n",
            "|                   22.0|           101.61|              1|             3.03|            7.0|           72.03|\n",
            "|                   15.0|           275.53|              1|             3.53|            8.0|           70.17|\n",
            "|                   12.0|           424.83|              1|             2.53|            8.0|           69.99|\n",
            "|                   15.0|           249.09|              1|             3.39|            9.0|           70.77|\n",
            "|                   32.0|           242.48|              0|             4.24|            8.0|           67.93|\n",
            "|                   23.0|           514.54|              0|             3.18|            8.0|           68.56|\n",
            "|                    9.0|           284.77|              0|             3.12|            9.0|           70.82|\n",
            "|                   27.0|           779.25|              1|             2.37|            8.0|           72.73|\n",
            "|                   12.0|           307.31|              1|             3.22|            7.0|           67.95|\n",
            "|                   21.0|           355.94|              1|              2.0|            7.0|            72.0|\n",
            "|                   10.0|           372.65|              0|             3.33|            7.0|           69.19|\n",
            "|                   20.0|           347.23|              1|             2.33|            7.0|           70.41|\n",
            "|                   22.0|           456.57|              0|             1.52|            8.0|           69.35|\n",
            "+-----------------------+-----------------+---------------+-----------------+---------------+----------------+\n",
            "only showing top 20 rows\n",
            "\n"
          ]
        }
      ]
    },
    {
      "cell_type": "code",
      "source": [
        "from pyspark.ml.feature import VectorAssembler\n",
        "vec_assembler = VectorAssembler(inputCols = df.columns, outputCol='features')\n",
        "final_data = vec_assembler.transform(df)"
      ],
      "metadata": {
        "id": "falKCwAyTnLn"
      },
      "execution_count": 4,
      "outputs": []
    },
    {
      "cell_type": "code",
      "source": [
        "from pyspark.ml.feature import StandardScaler\n",
        "scaler = StandardScaler(inputCol=\"features\", outputCol=\"scaledFeatures\", withStd=True, withMean=False)\n",
        "scalerModel = scaler.fit(final_data)\n",
        "final_data = scalerModel.transform(final_data)"
      ],
      "metadata": {
        "id": "JgaQIBnlT0Fi"
      },
      "execution_count": 5,
      "outputs": []
    },
    {
      "cell_type": "code",
      "source": [
        "final_data.show()\n"
      ],
      "metadata": {
        "colab": {
          "base_uri": "https://localhost:8080/"
        },
        "id": "S0dXCF8eef9P",
        "outputId": "73f4a250-824f-41aa-e226-4a610f7af44f"
      },
      "execution_count": 6,
      "outputs": [
        {
          "output_type": "stream",
          "name": "stdout",
          "text": [
            "+-----------------------+-----------------+---------------+-----------------+---------------+----------------+--------------------+--------------------+\n",
            "|Session_Connection_Time|Bytes Transferred|Kali_Trace_Used|Servers_Corrupted|Pages_Corrupted|WPM_Typing_Speed|            features|      scaledFeatures|\n",
            "+-----------------------+-----------------+---------------+-----------------+---------------+----------------+--------------------+--------------------+\n",
            "|                    8.0|           391.09|              1|             2.96|            7.0|           72.37|[8.0,391.09,1.0,2...|[0.56785108466505...|\n",
            "|                   20.0|           720.99|              0|             3.04|            9.0|           69.08|[20.0,720.99,0.0,...|[1.41962771166263...|\n",
            "|                   31.0|           356.32|              1|             3.71|            8.0|           70.58|[31.0,356.32,1.0,...|[2.20042295307707...|\n",
            "|                    2.0|           228.08|              1|             2.48|            8.0|            70.8|[2.0,228.08,1.0,2...|[0.14196277116626...|\n",
            "|                   20.0|            408.5|              0|             3.57|            8.0|           71.28|[20.0,408.5,0.0,3...|[1.41962771166263...|\n",
            "|                    1.0|           390.69|              1|             2.79|            9.0|           71.57|[1.0,390.69,1.0,2...|[0.07098138558313...|\n",
            "|                   18.0|           342.97|              1|              5.1|            7.0|           72.32|[18.0,342.97,1.0,...|[1.27766494049636...|\n",
            "|                   22.0|           101.61|              1|             3.03|            7.0|           72.03|[22.0,101.61,1.0,...|[1.56159048282889...|\n",
            "|                   15.0|           275.53|              1|             3.53|            8.0|           70.17|[15.0,275.53,1.0,...|[1.06472078374697...|\n",
            "|                   12.0|           424.83|              1|             2.53|            8.0|           69.99|[12.0,424.83,1.0,...|[0.85177662699757...|\n",
            "|                   15.0|           249.09|              1|             3.39|            9.0|           70.77|[15.0,249.09,1.0,...|[1.06472078374697...|\n",
            "|                   32.0|           242.48|              0|             4.24|            8.0|           67.93|[32.0,242.48,0.0,...|[2.27140433866020...|\n",
            "|                   23.0|           514.54|              0|             3.18|            8.0|           68.56|[23.0,514.54,0.0,...|[1.63257186841202...|\n",
            "|                    9.0|           284.77|              0|             3.12|            9.0|           70.82|[9.0,284.77,0.0,3...|[0.63883247024818...|\n",
            "|                   27.0|           779.25|              1|             2.37|            8.0|           72.73|[27.0,779.25,1.0,...|[1.91649741074455...|\n",
            "|                   12.0|           307.31|              1|             3.22|            7.0|           67.95|[12.0,307.31,1.0,...|[0.85177662699757...|\n",
            "|                   21.0|           355.94|              1|              2.0|            7.0|            72.0|[21.0,355.94,1.0,...|[1.49060909724576...|\n",
            "|                   10.0|           372.65|              0|             3.33|            7.0|           69.19|[10.0,372.65,0.0,...|[0.70981385583131...|\n",
            "|                   20.0|           347.23|              1|             2.33|            7.0|           70.41|[20.0,347.23,1.0,...|[1.41962771166263...|\n",
            "|                   22.0|           456.57|              0|             1.52|            8.0|           69.35|[22.0,456.57,0.0,...|[1.56159048282889...|\n",
            "+-----------------------+-----------------+---------------+-----------------+---------------+----------------+--------------------+--------------------+\n",
            "only showing top 20 rows\n",
            "\n"
          ]
        }
      ]
    },
    {
      "cell_type": "code",
      "source": [
        "'''#Visualizing the silhouette scores in a plot\n",
        "#import matplotlib.pyplot as plt\n",
        "#fig, ax = plt.subplots(1,1, figsize =(8,6))\n",
        "ax.plot(range(2,4),silhouette)\n",
        "ax.set_xlabel(‘k’)\n",
        "ax.set_ylabel(‘cost’)'''"
      ],
      "metadata": {
        "colab": {
          "base_uri": "https://localhost:8080/",
          "height": 53
        },
        "id": "n61mqejpeuV7",
        "outputId": "6eaabdad-5ab3-4faf-9a77-2a9300f272f8"
      },
      "execution_count": 26,
      "outputs": [
        {
          "output_type": "execute_result",
          "data": {
            "application/vnd.google.colaboratory.intrinsic+json": {
              "type": "string"
            },
            "text/plain": [
              "'#Visualizing the silhouette scores in a plot\\n#import matplotlib.pyplot as plt\\n#fig, ax = plt.subplots(1,1, figsize =(8,6))\\nax.plot(range(2,4),silhouette)\\nax.set_xlabel(‘k’)\\nax.set_ylabel(‘cost’)'"
            ]
          },
          "metadata": {},
          "execution_count": 26
        }
      ]
    },
    {
      "cell_type": "markdown",
      "source": [
        "#Strategie\n",
        "Etudier le dataset avec 2 nombres de cluster différent, en effet la meilleur probabilité de succès de prédiction du modèle K-means entre 2 et 3 clusters déterminera quel nombre de clusters est le plus adapté aux données, et donc le nombre de hackers. Le nombre de clusters qui marche le mieux en terme de prédiction sera le plus proche du \"elbow\" de la courbe. "
      ],
      "metadata": {
        "id": "vMPVHshxYvPs"
      }
    },
    {
      "cell_type": "markdown",
      "source": [
        "#2 clusters with k-means --> 2 hackers"
      ],
      "metadata": {
        "id": "1h3-8Di0Un0o"
      }
    },
    {
      "cell_type": "code",
      "source": [
        "from pyspark.ml.clustering import KMeans\n",
        "kmeans = KMeans(featuresCol='scaledFeatures', k=2)\n",
        "model = kmeans.fit(final_data)"
      ],
      "metadata": {
        "id": "1v0X_FZOUfZi"
      },
      "execution_count": 27,
      "outputs": []
    },
    {
      "cell_type": "code",
      "source": [
        "w_set_sse = model.clusterCenters()\n",
        "w_set_sse"
      ],
      "metadata": {
        "colab": {
          "base_uri": "https://localhost:8080/"
        },
        "id": "dyR2ODswUwY4",
        "outputId": "6854e6a4-cf55-4209-9812-d12120b1d63f"
      },
      "execution_count": 28,
      "outputs": [
        {
          "output_type": "execute_result",
          "data": {
            "text/plain": [
              "[array([1.26023837, 1.31829808, 0.99280765, 1.36491885, 2.5625043 ,\n",
              "        5.26676612]),\n",
              " array([2.99991988, 2.92319035, 1.05261534, 3.20390443, 4.51321315,\n",
              "        3.28474   ])]"
            ]
          },
          "metadata": {},
          "execution_count": 28
        }
      ]
    },
    {
      "cell_type": "code",
      "source": [
        "model.transform(final_data).select(\"features\",\"prediction\").show()"
      ],
      "metadata": {
        "colab": {
          "base_uri": "https://localhost:8080/"
        },
        "id": "9oenT25jU0yu",
        "outputId": "42344701-96a4-42b8-d6a4-0334df926b8b"
      },
      "execution_count": 29,
      "outputs": [
        {
          "output_type": "stream",
          "name": "stdout",
          "text": [
            "+--------------------+----------+\n",
            "|            features|prediction|\n",
            "+--------------------+----------+\n",
            "|[8.0,391.09,1.0,2...|         0|\n",
            "|[20.0,720.99,0.0,...|         0|\n",
            "|[31.0,356.32,1.0,...|         0|\n",
            "|[2.0,228.08,1.0,2...|         0|\n",
            "|[20.0,408.5,0.0,3...|         0|\n",
            "|[1.0,390.69,1.0,2...|         0|\n",
            "|[18.0,342.97,1.0,...|         0|\n",
            "|[22.0,101.61,1.0,...|         0|\n",
            "|[15.0,275.53,1.0,...|         0|\n",
            "|[12.0,424.83,1.0,...|         0|\n",
            "|[15.0,249.09,1.0,...|         0|\n",
            "|[32.0,242.48,0.0,...|         0|\n",
            "|[23.0,514.54,0.0,...|         0|\n",
            "|[9.0,284.77,0.0,3...|         0|\n",
            "|[27.0,779.25,1.0,...|         0|\n",
            "|[12.0,307.31,1.0,...|         0|\n",
            "|[21.0,355.94,1.0,...|         0|\n",
            "|[10.0,372.65,0.0,...|         0|\n",
            "|[20.0,347.23,1.0,...|         0|\n",
            "|[22.0,456.57,0.0,...|         0|\n",
            "+--------------------+----------+\n",
            "only showing top 20 rows\n",
            "\n"
          ]
        }
      ]
    },
    {
      "cell_type": "code",
      "source": [
        "from pyspark.ml.evaluation import ClusteringEvaluator\n",
        "evaluator = ClusteringEvaluator()\n",
        "predictions = model.transform(final_data)\n"
      ],
      "metadata": {
        "id": "MSZ5mYuMU27o"
      },
      "execution_count": 30,
      "outputs": []
    },
    {
      "cell_type": "markdown",
      "source": [
        "La probabilité de prédiction est de 66% pour 2 hackers\n"
      ],
      "metadata": {
        "id": "jdSy9YGWXPwZ"
      }
    },
    {
      "cell_type": "code",
      "source": [
        "predictions.groupBy('prediction').count().show()"
      ],
      "metadata": {
        "colab": {
          "base_uri": "https://localhost:8080/"
        },
        "id": "mlHwc-Gpy6q0",
        "outputId": "c1a5f013-0b7e-40f7-f0d3-e9aff570837d"
      },
      "execution_count": 31,
      "outputs": [
        {
          "output_type": "stream",
          "name": "stdout",
          "text": [
            "+----------+-----+\n",
            "|prediction|count|\n",
            "+----------+-----+\n",
            "|         1|  167|\n",
            "|         0|  167|\n",
            "+----------+-----+\n",
            "\n"
          ]
        }
      ]
    },
    {
      "cell_type": "markdown",
      "source": [
        "# 3 clusters --> 3 hackers"
      ],
      "metadata": {
        "id": "5dJn25TCXJKP"
      }
    },
    {
      "cell_type": "code",
      "source": [
        "from pyspark.ml.clustering import KMeans\n",
        "kmeans3 = KMeans(featuresCol='scaledFeatures', k=3)\n",
        "model2 = kmeans3.fit(final_data)\n",
        "\n",
        "w_set_sse2 = model2.clusterCenters()\n",
        "w_set_sse2"
      ],
      "metadata": {
        "colab": {
          "base_uri": "https://localhost:8080/"
        },
        "id": "4d53ni96Vd8E",
        "outputId": "3aa2fa4e-8998-4185-f691-071c767259b5"
      },
      "execution_count": 32,
      "outputs": [
        {
          "output_type": "execute_result",
          "data": {
            "text/plain": [
              "[array([1.21780112, 1.37901802, 1.99757683, 1.37198977, 2.55237797,\n",
              "        5.29152222]),\n",
              " array([2.99991988, 2.92319035, 1.05261534, 3.20390443, 4.51321315,\n",
              "        3.28474   ]),\n",
              " array([1.30217042, 1.25830099, 0.        , 1.35793211, 2.57251009,\n",
              "        5.24230473])]"
            ]
          },
          "metadata": {},
          "execution_count": 32
        }
      ]
    },
    {
      "cell_type": "code",
      "source": [
        "model2.transform(final_data).select(\"features\",\"prediction\").show()"
      ],
      "metadata": {
        "colab": {
          "base_uri": "https://localhost:8080/"
        },
        "id": "P96JiW0aXfut",
        "outputId": "0e28ab94-c418-49ce-d035-1f9867a4cb18"
      },
      "execution_count": 33,
      "outputs": [
        {
          "output_type": "stream",
          "name": "stdout",
          "text": [
            "+--------------------+----------+\n",
            "|            features|prediction|\n",
            "+--------------------+----------+\n",
            "|[8.0,391.09,1.0,2...|         0|\n",
            "|[20.0,720.99,0.0,...|         2|\n",
            "|[31.0,356.32,1.0,...|         0|\n",
            "|[2.0,228.08,1.0,2...|         0|\n",
            "|[20.0,408.5,0.0,3...|         2|\n",
            "|[1.0,390.69,1.0,2...|         0|\n",
            "|[18.0,342.97,1.0,...|         0|\n",
            "|[22.0,101.61,1.0,...|         0|\n",
            "|[15.0,275.53,1.0,...|         0|\n",
            "|[12.0,424.83,1.0,...|         0|\n",
            "|[15.0,249.09,1.0,...|         0|\n",
            "|[32.0,242.48,0.0,...|         2|\n",
            "|[23.0,514.54,0.0,...|         2|\n",
            "|[9.0,284.77,0.0,3...|         2|\n",
            "|[27.0,779.25,1.0,...|         0|\n",
            "|[12.0,307.31,1.0,...|         0|\n",
            "|[21.0,355.94,1.0,...|         0|\n",
            "|[10.0,372.65,0.0,...|         2|\n",
            "|[20.0,347.23,1.0,...|         0|\n",
            "|[22.0,456.57,0.0,...|         2|\n",
            "+--------------------+----------+\n",
            "only showing top 20 rows\n",
            "\n"
          ]
        }
      ]
    },
    {
      "cell_type": "code",
      "source": [
        "from pyspark.ml.evaluation import ClusteringEvaluator\n",
        "evaluator2 = ClusteringEvaluator()\n",
        "predictions2 = model2.transform(final_data)\n"
      ],
      "metadata": {
        "id": "IIYR_ttQXks1"
      },
      "execution_count": 34,
      "outputs": []
    },
    {
      "cell_type": "code",
      "source": [
        "predictions.groupBy('prediction').count().show()"
      ],
      "metadata": {
        "colab": {
          "base_uri": "https://localhost:8080/"
        },
        "id": "Id62BUrZzOdF",
        "outputId": "16d4cc15-f63f-4040-976b-25c4f775ba7e"
      },
      "execution_count": 35,
      "outputs": [
        {
          "output_type": "stream",
          "name": "stdout",
          "text": [
            "+----------+-----+\n",
            "|prediction|count|\n",
            "+----------+-----+\n",
            "|         1|  167|\n",
            "|         0|  167|\n",
            "+----------+-----+\n",
            "\n"
          ]
        }
      ]
    },
    {
      "cell_type": "markdown",
      "source": [
        "La probabilité de succès des prédictions est de 33% avec k=3"
      ],
      "metadata": {
        "id": "F16wq3g8aABf"
      }
    },
    {
      "cell_type": "markdown",
      "source": [
        "#conclusion\n",
        "il y a 2 hackers car k=2 est la plus proche du \"elbow\" de la courbe. Le clustering des données en 2 groupes fait plus de sens que en 3 groupes, suggérant seulement 2 hackers."
      ],
      "metadata": {
        "id": "VTQfbAp2aINX"
      }
    }
  ]
}