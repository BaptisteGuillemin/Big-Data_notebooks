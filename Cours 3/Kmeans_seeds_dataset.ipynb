{
  "nbformat": 4,
  "nbformat_minor": 0,
  "metadata": {
    "colab": {
      "name": "Kmeans_seeds_dataset.ipynb",
      "provenance": [],
      "collapsed_sections": []
    },
    "kernelspec": {
      "name": "python3",
      "display_name": "Python 3"
    },
    "language_info": {
      "name": "python"
    }
  },
  "cells": [
    {
      "cell_type": "code",
      "execution_count": 1,
      "metadata": {
        "colab": {
          "base_uri": "https://localhost:8080/"
        },
        "id": "iGPyzrSxGneC",
        "outputId": "44f406fd-bc69-4bee-94b4-df1a5c724f38"
      },
      "outputs": [
        {
          "output_type": "stream",
          "name": "stdout",
          "text": [
            "\u001b[K     |████████████████████████████████| 281.4 MB 36 kB/s \n",
            "\u001b[K     |████████████████████████████████| 198 kB 67.4 MB/s \n",
            "\u001b[?25h  Building wheel for pyspark (setup.py) ... \u001b[?25l\u001b[?25hdone\n"
          ]
        }
      ],
      "source": [
        "!pip install -q findspark\n",
        "!pip install -q pyspark\n",
        "\n",
        "import findspark\n",
        "findspark.init()\n",
        "\n",
        "from pyspark.sql import SparkSession\n",
        "spark = SparkSession.builder.appName('cluster').getOrCreate()"
      ]
    },
    {
      "cell_type": "code",
      "source": [
        "df = spark.read.csv('seeds_dataset.csv',header=True, inferSchema=True)\n",
        "df.show()"
      ],
      "metadata": {
        "colab": {
          "base_uri": "https://localhost:8080/"
        },
        "id": "FaK8OpXyGrre",
        "outputId": "f7beaa13-996e-4123-a76b-7250f94e0ed2"
      },
      "execution_count": 4,
      "outputs": [
        {
          "output_type": "stream",
          "name": "stdout",
          "text": [
            "+-----+---------+-----------+------------------+------------------+---------------------+------------------+\n",
            "| area|perimeter|compactness|  length_of_kernel|   width_of_kernel|asymmetry_coefficient|  length_of_groove|\n",
            "+-----+---------+-----------+------------------+------------------+---------------------+------------------+\n",
            "|15.26|    14.84|      0.871|             5.763|             3.312|                2.221|              5.22|\n",
            "|14.88|    14.57|     0.8811| 5.553999999999999|             3.333|                1.018|             4.956|\n",
            "|14.29|    14.09|      0.905|             5.291|3.3369999999999997|                2.699|             4.825|\n",
            "|13.84|    13.94|     0.8955|             5.324|3.3789999999999996|                2.259|             4.805|\n",
            "|16.14|    14.99|     0.9034|5.6579999999999995|             3.562|                1.355|             5.175|\n",
            "|14.38|    14.21|     0.8951|             5.386|             3.312|   2.4619999999999997|             4.956|\n",
            "|14.69|    14.49|     0.8799|             5.563|             3.259|   3.5860000000000003| 5.218999999999999|\n",
            "|14.11|     14.1|     0.8911|              5.42|             3.302|                  2.7|               5.0|\n",
            "|16.63|    15.46|     0.8747|             6.053|             3.465|                 2.04| 5.877000000000001|\n",
            "|16.44|    15.25|      0.888|5.8839999999999995|             3.505|                1.969|5.5329999999999995|\n",
            "|15.26|    14.85|     0.8696|5.7139999999999995|             3.242|                4.543|             5.314|\n",
            "|14.03|    14.16|     0.8796|             5.438|             3.201|   1.7169999999999999|             5.001|\n",
            "|13.89|    14.02|      0.888|             5.439|             3.199|                3.986|             4.738|\n",
            "|13.78|    14.06|     0.8759|             5.479|             3.156|                3.136|             4.872|\n",
            "|13.74|    14.05|     0.8744|             5.482|             3.114|                2.932|             4.825|\n",
            "|14.59|    14.28|     0.8993|             5.351|             3.333|                4.185| 4.781000000000001|\n",
            "|13.99|    13.83|     0.9183|             5.119|             3.383|                5.234| 4.781000000000001|\n",
            "|15.69|    14.75|     0.9058|             5.527|             3.514|                1.599|             5.046|\n",
            "| 14.7|    14.21|     0.9153|             5.205|             3.466|                1.767|             4.649|\n",
            "|12.72|    13.57|     0.8686|             5.226|             3.049|                4.102|             4.914|\n",
            "+-----+---------+-----------+------------------+------------------+---------------------+------------------+\n",
            "only showing top 20 rows\n",
            "\n"
          ]
        }
      ]
    },
    {
      "cell_type": "code",
      "source": [
        "df.columns"
      ],
      "metadata": {
        "colab": {
          "base_uri": "https://localhost:8080/"
        },
        "id": "AWw_whDSHAeS",
        "outputId": "cf7449ed-691d-4370-d7d6-b2559c89052e"
      },
      "execution_count": 6,
      "outputs": [
        {
          "output_type": "execute_result",
          "data": {
            "text/plain": [
              "['area',\n",
              " 'perimeter',\n",
              " 'compactness',\n",
              " 'length_of_kernel',\n",
              " 'width_of_kernel',\n",
              " 'asymmetry_coefficient',\n",
              " 'length_of_groove']"
            ]
          },
          "metadata": {},
          "execution_count": 6
        }
      ]
    },
    {
      "cell_type": "markdown",
      "source": [
        "# Assembler les vecteurs\n"
      ],
      "metadata": {
        "id": "1CMfVOAnKZr3"
      }
    },
    {
      "cell_type": "code",
      "source": [
        "from pyspark.ml.feature import VectorAssembler\n",
        "vec_assembler = VectorAssembler(inputCols = df.columns, outputCol='features')\n",
        "final_data = vec_assembler.transform(df)"
      ],
      "metadata": {
        "id": "QfUHlVgMHiOb"
      },
      "execution_count": 9,
      "outputs": []
    },
    {
      "cell_type": "code",
      "source": [
        "final_data.show()"
      ],
      "metadata": {
        "colab": {
          "base_uri": "https://localhost:8080/"
        },
        "id": "QjUy7rFHH6QJ",
        "outputId": "c3b847e2-6288-4c01-8c54-7097e1eef775"
      },
      "execution_count": 10,
      "outputs": [
        {
          "output_type": "stream",
          "name": "stdout",
          "text": [
            "+-----+---------+-----------+------------------+------------------+---------------------+------------------+--------------------+\n",
            "| area|perimeter|compactness|  length_of_kernel|   width_of_kernel|asymmetry_coefficient|  length_of_groove|            features|\n",
            "+-----+---------+-----------+------------------+------------------+---------------------+------------------+--------------------+\n",
            "|15.26|    14.84|      0.871|             5.763|             3.312|                2.221|              5.22|[15.26,14.84,0.87...|\n",
            "|14.88|    14.57|     0.8811| 5.553999999999999|             3.333|                1.018|             4.956|[14.88,14.57,0.88...|\n",
            "|14.29|    14.09|      0.905|             5.291|3.3369999999999997|                2.699|             4.825|[14.29,14.09,0.90...|\n",
            "|13.84|    13.94|     0.8955|             5.324|3.3789999999999996|                2.259|             4.805|[13.84,13.94,0.89...|\n",
            "|16.14|    14.99|     0.9034|5.6579999999999995|             3.562|                1.355|             5.175|[16.14,14.99,0.90...|\n",
            "|14.38|    14.21|     0.8951|             5.386|             3.312|   2.4619999999999997|             4.956|[14.38,14.21,0.89...|\n",
            "|14.69|    14.49|     0.8799|             5.563|             3.259|   3.5860000000000003| 5.218999999999999|[14.69,14.49,0.87...|\n",
            "|14.11|     14.1|     0.8911|              5.42|             3.302|                  2.7|               5.0|[14.11,14.1,0.891...|\n",
            "|16.63|    15.46|     0.8747|             6.053|             3.465|                 2.04| 5.877000000000001|[16.63,15.46,0.87...|\n",
            "|16.44|    15.25|      0.888|5.8839999999999995|             3.505|                1.969|5.5329999999999995|[16.44,15.25,0.88...|\n",
            "|15.26|    14.85|     0.8696|5.7139999999999995|             3.242|                4.543|             5.314|[15.26,14.85,0.86...|\n",
            "|14.03|    14.16|     0.8796|             5.438|             3.201|   1.7169999999999999|             5.001|[14.03,14.16,0.87...|\n",
            "|13.89|    14.02|      0.888|             5.439|             3.199|                3.986|             4.738|[13.89,14.02,0.88...|\n",
            "|13.78|    14.06|     0.8759|             5.479|             3.156|                3.136|             4.872|[13.78,14.06,0.87...|\n",
            "|13.74|    14.05|     0.8744|             5.482|             3.114|                2.932|             4.825|[13.74,14.05,0.87...|\n",
            "|14.59|    14.28|     0.8993|             5.351|             3.333|                4.185| 4.781000000000001|[14.59,14.28,0.89...|\n",
            "|13.99|    13.83|     0.9183|             5.119|             3.383|                5.234| 4.781000000000001|[13.99,13.83,0.91...|\n",
            "|15.69|    14.75|     0.9058|             5.527|             3.514|                1.599|             5.046|[15.69,14.75,0.90...|\n",
            "| 14.7|    14.21|     0.9153|             5.205|             3.466|                1.767|             4.649|[14.7,14.21,0.915...|\n",
            "|12.72|    13.57|     0.8686|             5.226|             3.049|                4.102|             4.914|[12.72,13.57,0.86...|\n",
            "+-----+---------+-----------+------------------+------------------+---------------------+------------------+--------------------+\n",
            "only showing top 20 rows\n",
            "\n"
          ]
        }
      ]
    },
    {
      "cell_type": "markdown",
      "source": [
        "# Feature Scaling Data"
      ],
      "metadata": {
        "id": "K1OxeY1AJa6E"
      }
    },
    {
      "cell_type": "code",
      "source": [
        "from pyspark.ml.feature import StandardScaler\n",
        "scaler = StandardScaler(inputCol=\"features\", outputCol=\"scaledFeatures\", withStd=True, withMean=False)\n",
        "scalerModel = scaler.fit(final_data)"
      ],
      "metadata": {
        "id": "5Mauv7iCISIo"
      },
      "execution_count": 11,
      "outputs": []
    },
    {
      "cell_type": "code",
      "source": [
        "final_data = scalerModel.transform(final_data)"
      ],
      "metadata": {
        "id": "TEi9KyolI3iy"
      },
      "execution_count": 12,
      "outputs": []
    },
    {
      "cell_type": "markdown",
      "source": [
        "#K-means"
      ],
      "metadata": {
        "id": "hbiF88RcJhTc"
      }
    },
    {
      "cell_type": "code",
      "source": [
        "from pyspark.ml.clustering import KMeans\n",
        "kmeans = KMeans(featuresCol='scaledFeatures', k=3)\n",
        "model = kmeans.fit(final_data)"
      ],
      "metadata": {
        "id": "FbvHNNDOI-w2"
      },
      "execution_count": 14,
      "outputs": []
    },
    {
      "cell_type": "code",
      "source": [
        "w_set_sse = model.clusterCenters()\n",
        "w_set_sse"
      ],
      "metadata": {
        "colab": {
          "base_uri": "https://localhost:8080/"
        },
        "id": "A0VUPePpJS-G",
        "outputId": "cba67c22-d8b0-452d-d3d2-4b78d6a60d56"
      },
      "execution_count": 17,
      "outputs": [
        {
          "output_type": "execute_result",
          "data": {
            "text/plain": [
              "[array([ 4.90993613, 10.92295738, 37.28032496, 12.38401355,  8.5873381 ,\n",
              "         1.7739463 , 10.35147469]),\n",
              " array([ 4.06818854, 10.13938448, 35.87110297, 11.81191124,  7.52564313,\n",
              "         3.24585755, 10.40780927]),\n",
              " array([ 6.32636687, 12.38115343, 37.39222755, 13.9206997 ,  9.75485787,\n",
              "         2.41428142, 12.28078861])]"
            ]
          },
          "metadata": {},
          "execution_count": 17
        }
      ]
    },
    {
      "cell_type": "code",
      "source": [
        "model.transform(final_data).select(\"features\",\"prediction\").show()"
      ],
      "metadata": {
        "colab": {
          "base_uri": "https://localhost:8080/"
        },
        "id": "FLeZJ7daKlKK",
        "outputId": "ae29a293-7d61-4847-d994-16b2d90c4acf"
      },
      "execution_count": 19,
      "outputs": [
        {
          "output_type": "stream",
          "name": "stdout",
          "text": [
            "+--------------------+----------+\n",
            "|            features|prediction|\n",
            "+--------------------+----------+\n",
            "|[15.26,14.84,0.87...|         0|\n",
            "|[14.88,14.57,0.88...|         0|\n",
            "|[14.29,14.09,0.90...|         0|\n",
            "|[13.84,13.94,0.89...|         0|\n",
            "|[16.14,14.99,0.90...|         0|\n",
            "|[14.38,14.21,0.89...|         0|\n",
            "|[14.69,14.49,0.87...|         0|\n",
            "|[14.11,14.1,0.891...|         0|\n",
            "|[16.63,15.46,0.87...|         2|\n",
            "|[16.44,15.25,0.88...|         0|\n",
            "|[15.26,14.85,0.86...|         0|\n",
            "|[14.03,14.16,0.87...|         0|\n",
            "|[13.89,14.02,0.88...|         0|\n",
            "|[13.78,14.06,0.87...|         0|\n",
            "|[13.74,14.05,0.87...|         0|\n",
            "|[14.59,14.28,0.89...|         0|\n",
            "|[13.99,13.83,0.91...|         0|\n",
            "|[15.69,14.75,0.90...|         0|\n",
            "|[14.7,14.21,0.915...|         0|\n",
            "|[12.72,13.57,0.86...|         1|\n",
            "+--------------------+----------+\n",
            "only showing top 20 rows\n",
            "\n"
          ]
        }
      ]
    },
    {
      "cell_type": "code",
      "source": [
        ""
      ],
      "metadata": {
        "id": "NvvVTLB4LS1l"
      },
      "execution_count": null,
      "outputs": []
    },
    {
      "cell_type": "code",
      "source": [
        "from google.colab import drive\n",
        "drive.mount('/content/drive')"
      ],
      "metadata": {
        "id": "yE23mkS2R4pI"
      },
      "execution_count": null,
      "outputs": []
    }
  ]
}